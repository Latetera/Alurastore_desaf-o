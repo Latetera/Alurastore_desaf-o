{
  "nbformat": 4,
  "nbformat_minor": 0,
  "metadata": {
    "colab": {
      "provenance": []
    },
    "kernelspec": {
      "name": "python3",
      "display_name": "Python 3"
    },
    "language_info": {
      "name": "python"
    }
  },
  "cells": [
    {
      "cell_type": "markdown",
      "source": [
        "### Importación de datos\n",
        "\n"
      ],
      "metadata": {
        "id": "RhEdWd9YUR6H"
      }
    },
    {
      "cell_type": "code",
      "execution_count": null,
      "metadata": {
        "colab": {
          "base_uri": "https://localhost:8080/",
          "height": 399
        },
        "id": "T3EvaeQ_INIL",
        "outputId": "29ef140d-30fa-4a2b-9795-fba3165e2407"
      },
      "outputs": [
        {
          "output_type": "execute_result",
          "data": {
            "text/plain": [
              "            Producto Categoría del Producto    Precio  Costo de envío  \\\n",
              "0  Asistente virtual           Electrónicos  164300.0          6900.0   \n",
              "1    Mesa de comedor                Muebles  192300.0          8400.0   \n",
              "2      Juego de mesa               Juguetes  209600.0         15900.0   \n",
              "3         Microondas      Electrodomésticos  757500.0         41000.0   \n",
              "4   Silla de oficina                Muebles  335200.0         20200.0   \n",
              "\n",
              "  Fecha de Compra         Vendedor Lugar de Compra  Calificación  \\\n",
              "0      16/01/2021      Pedro Gomez          Bogotá             4   \n",
              "1      18/05/2022  Beatriz Morales        Medellín             1   \n",
              "2      15/03/2021   Juan Fernandez       Cartagena             1   \n",
              "3      03/05/2022   Juan Fernandez            Cali             4   \n",
              "4      07/11/2020    Maria Alfonso        Medellín             5   \n",
              "\n",
              "       Método de pago  Cantidad de cuotas       lat       lon  \n",
              "0  Tarjeta de crédito                   8   4.60971 -74.08175  \n",
              "1  Tarjeta de crédito                   4   6.25184 -75.56359  \n",
              "2  Tarjeta de crédito                   1  10.39972 -75.51444  \n",
              "3               Nequi                   1   3.43722 -76.52250  \n",
              "4               Nequi                   1   6.25184 -75.56359  "
            ],
            "text/html": [
              "\n",
              "  <div id=\"df-aa07e57c-c3e4-435a-925a-eac4f53ee12a\" class=\"colab-df-container\">\n",
              "    <div>\n",
              "<style scoped>\n",
              "    .dataframe tbody tr th:only-of-type {\n",
              "        vertical-align: middle;\n",
              "    }\n",
              "\n",
              "    .dataframe tbody tr th {\n",
              "        vertical-align: top;\n",
              "    }\n",
              "\n",
              "    .dataframe thead th {\n",
              "        text-align: right;\n",
              "    }\n",
              "</style>\n",
              "<table border=\"1\" class=\"dataframe\">\n",
              "  <thead>\n",
              "    <tr style=\"text-align: right;\">\n",
              "      <th></th>\n",
              "      <th>Producto</th>\n",
              "      <th>Categoría del Producto</th>\n",
              "      <th>Precio</th>\n",
              "      <th>Costo de envío</th>\n",
              "      <th>Fecha de Compra</th>\n",
              "      <th>Vendedor</th>\n",
              "      <th>Lugar de Compra</th>\n",
              "      <th>Calificación</th>\n",
              "      <th>Método de pago</th>\n",
              "      <th>Cantidad de cuotas</th>\n",
              "      <th>lat</th>\n",
              "      <th>lon</th>\n",
              "    </tr>\n",
              "  </thead>\n",
              "  <tbody>\n",
              "    <tr>\n",
              "      <th>0</th>\n",
              "      <td>Asistente virtual</td>\n",
              "      <td>Electrónicos</td>\n",
              "      <td>164300.0</td>\n",
              "      <td>6900.0</td>\n",
              "      <td>16/01/2021</td>\n",
              "      <td>Pedro Gomez</td>\n",
              "      <td>Bogotá</td>\n",
              "      <td>4</td>\n",
              "      <td>Tarjeta de crédito</td>\n",
              "      <td>8</td>\n",
              "      <td>4.60971</td>\n",
              "      <td>-74.08175</td>\n",
              "    </tr>\n",
              "    <tr>\n",
              "      <th>1</th>\n",
              "      <td>Mesa de comedor</td>\n",
              "      <td>Muebles</td>\n",
              "      <td>192300.0</td>\n",
              "      <td>8400.0</td>\n",
              "      <td>18/05/2022</td>\n",
              "      <td>Beatriz Morales</td>\n",
              "      <td>Medellín</td>\n",
              "      <td>1</td>\n",
              "      <td>Tarjeta de crédito</td>\n",
              "      <td>4</td>\n",
              "      <td>6.25184</td>\n",
              "      <td>-75.56359</td>\n",
              "    </tr>\n",
              "    <tr>\n",
              "      <th>2</th>\n",
              "      <td>Juego de mesa</td>\n",
              "      <td>Juguetes</td>\n",
              "      <td>209600.0</td>\n",
              "      <td>15900.0</td>\n",
              "      <td>15/03/2021</td>\n",
              "      <td>Juan Fernandez</td>\n",
              "      <td>Cartagena</td>\n",
              "      <td>1</td>\n",
              "      <td>Tarjeta de crédito</td>\n",
              "      <td>1</td>\n",
              "      <td>10.39972</td>\n",
              "      <td>-75.51444</td>\n",
              "    </tr>\n",
              "    <tr>\n",
              "      <th>3</th>\n",
              "      <td>Microondas</td>\n",
              "      <td>Electrodomésticos</td>\n",
              "      <td>757500.0</td>\n",
              "      <td>41000.0</td>\n",
              "      <td>03/05/2022</td>\n",
              "      <td>Juan Fernandez</td>\n",
              "      <td>Cali</td>\n",
              "      <td>4</td>\n",
              "      <td>Nequi</td>\n",
              "      <td>1</td>\n",
              "      <td>3.43722</td>\n",
              "      <td>-76.52250</td>\n",
              "    </tr>\n",
              "    <tr>\n",
              "      <th>4</th>\n",
              "      <td>Silla de oficina</td>\n",
              "      <td>Muebles</td>\n",
              "      <td>335200.0</td>\n",
              "      <td>20200.0</td>\n",
              "      <td>07/11/2020</td>\n",
              "      <td>Maria Alfonso</td>\n",
              "      <td>Medellín</td>\n",
              "      <td>5</td>\n",
              "      <td>Nequi</td>\n",
              "      <td>1</td>\n",
              "      <td>6.25184</td>\n",
              "      <td>-75.56359</td>\n",
              "    </tr>\n",
              "  </tbody>\n",
              "</table>\n",
              "</div>\n",
              "    <div class=\"colab-df-buttons\">\n",
              "\n",
              "  <div class=\"colab-df-container\">\n",
              "    <button class=\"colab-df-convert\" onclick=\"convertToInteractive('df-aa07e57c-c3e4-435a-925a-eac4f53ee12a')\"\n",
              "            title=\"Convert this dataframe to an interactive table.\"\n",
              "            style=\"display:none;\">\n",
              "\n",
              "  <svg xmlns=\"http://www.w3.org/2000/svg\" height=\"24px\" viewBox=\"0 -960 960 960\">\n",
              "    <path d=\"M120-120v-720h720v720H120Zm60-500h600v-160H180v160Zm220 220h160v-160H400v160Zm0 220h160v-160H400v160ZM180-400h160v-160H180v160Zm440 0h160v-160H620v160ZM180-180h160v-160H180v160Zm440 0h160v-160H620v160Z\"/>\n",
              "  </svg>\n",
              "    </button>\n",
              "\n",
              "  <style>\n",
              "    .colab-df-container {\n",
              "      display:flex;\n",
              "      gap: 12px;\n",
              "    }\n",
              "\n",
              "    .colab-df-convert {\n",
              "      background-color: #E8F0FE;\n",
              "      border: none;\n",
              "      border-radius: 50%;\n",
              "      cursor: pointer;\n",
              "      display: none;\n",
              "      fill: #1967D2;\n",
              "      height: 32px;\n",
              "      padding: 0 0 0 0;\n",
              "      width: 32px;\n",
              "    }\n",
              "\n",
              "    .colab-df-convert:hover {\n",
              "      background-color: #E2EBFA;\n",
              "      box-shadow: 0px 1px 2px rgba(60, 64, 67, 0.3), 0px 1px 3px 1px rgba(60, 64, 67, 0.15);\n",
              "      fill: #174EA6;\n",
              "    }\n",
              "\n",
              "    .colab-df-buttons div {\n",
              "      margin-bottom: 4px;\n",
              "    }\n",
              "\n",
              "    [theme=dark] .colab-df-convert {\n",
              "      background-color: #3B4455;\n",
              "      fill: #D2E3FC;\n",
              "    }\n",
              "\n",
              "    [theme=dark] .colab-df-convert:hover {\n",
              "      background-color: #434B5C;\n",
              "      box-shadow: 0px 1px 3px 1px rgba(0, 0, 0, 0.15);\n",
              "      filter: drop-shadow(0px 1px 2px rgba(0, 0, 0, 0.3));\n",
              "      fill: #FFFFFF;\n",
              "    }\n",
              "  </style>\n",
              "\n",
              "    <script>\n",
              "      const buttonEl =\n",
              "        document.querySelector('#df-aa07e57c-c3e4-435a-925a-eac4f53ee12a button.colab-df-convert');\n",
              "      buttonEl.style.display =\n",
              "        google.colab.kernel.accessAllowed ? 'block' : 'none';\n",
              "\n",
              "      async function convertToInteractive(key) {\n",
              "        const element = document.querySelector('#df-aa07e57c-c3e4-435a-925a-eac4f53ee12a');\n",
              "        const dataTable =\n",
              "          await google.colab.kernel.invokeFunction('convertToInteractive',\n",
              "                                                    [key], {});\n",
              "        if (!dataTable) return;\n",
              "\n",
              "        const docLinkHtml = 'Like what you see? Visit the ' +\n",
              "          '<a target=\"_blank\" href=https://colab.research.google.com/notebooks/data_table.ipynb>data table notebook</a>'\n",
              "          + ' to learn more about interactive tables.';\n",
              "        element.innerHTML = '';\n",
              "        dataTable['output_type'] = 'display_data';\n",
              "        await google.colab.output.renderOutput(dataTable, element);\n",
              "        const docLink = document.createElement('div');\n",
              "        docLink.innerHTML = docLinkHtml;\n",
              "        element.appendChild(docLink);\n",
              "      }\n",
              "    </script>\n",
              "  </div>\n",
              "\n",
              "\n",
              "<div id=\"df-a2d58e48-b24d-42ef-9dea-bbd3377b3fd3\">\n",
              "  <button class=\"colab-df-quickchart\" onclick=\"quickchart('df-a2d58e48-b24d-42ef-9dea-bbd3377b3fd3')\"\n",
              "            title=\"Suggest charts\"\n",
              "            style=\"display:none;\">\n",
              "\n",
              "<svg xmlns=\"http://www.w3.org/2000/svg\" height=\"24px\"viewBox=\"0 0 24 24\"\n",
              "     width=\"24px\">\n",
              "    <g>\n",
              "        <path d=\"M19 3H5c-1.1 0-2 .9-2 2v14c0 1.1.9 2 2 2h14c1.1 0 2-.9 2-2V5c0-1.1-.9-2-2-2zM9 17H7v-7h2v7zm4 0h-2V7h2v10zm4 0h-2v-4h2v4z\"/>\n",
              "    </g>\n",
              "</svg>\n",
              "  </button>\n",
              "\n",
              "<style>\n",
              "  .colab-df-quickchart {\n",
              "      --bg-color: #E8F0FE;\n",
              "      --fill-color: #1967D2;\n",
              "      --hover-bg-color: #E2EBFA;\n",
              "      --hover-fill-color: #174EA6;\n",
              "      --disabled-fill-color: #AAA;\n",
              "      --disabled-bg-color: #DDD;\n",
              "  }\n",
              "\n",
              "  [theme=dark] .colab-df-quickchart {\n",
              "      --bg-color: #3B4455;\n",
              "      --fill-color: #D2E3FC;\n",
              "      --hover-bg-color: #434B5C;\n",
              "      --hover-fill-color: #FFFFFF;\n",
              "      --disabled-bg-color: #3B4455;\n",
              "      --disabled-fill-color: #666;\n",
              "  }\n",
              "\n",
              "  .colab-df-quickchart {\n",
              "    background-color: var(--bg-color);\n",
              "    border: none;\n",
              "    border-radius: 50%;\n",
              "    cursor: pointer;\n",
              "    display: none;\n",
              "    fill: var(--fill-color);\n",
              "    height: 32px;\n",
              "    padding: 0;\n",
              "    width: 32px;\n",
              "  }\n",
              "\n",
              "  .colab-df-quickchart:hover {\n",
              "    background-color: var(--hover-bg-color);\n",
              "    box-shadow: 0 1px 2px rgba(60, 64, 67, 0.3), 0 1px 3px 1px rgba(60, 64, 67, 0.15);\n",
              "    fill: var(--button-hover-fill-color);\n",
              "  }\n",
              "\n",
              "  .colab-df-quickchart-complete:disabled,\n",
              "  .colab-df-quickchart-complete:disabled:hover {\n",
              "    background-color: var(--disabled-bg-color);\n",
              "    fill: var(--disabled-fill-color);\n",
              "    box-shadow: none;\n",
              "  }\n",
              "\n",
              "  .colab-df-spinner {\n",
              "    border: 2px solid var(--fill-color);\n",
              "    border-color: transparent;\n",
              "    border-bottom-color: var(--fill-color);\n",
              "    animation:\n",
              "      spin 1s steps(1) infinite;\n",
              "  }\n",
              "\n",
              "  @keyframes spin {\n",
              "    0% {\n",
              "      border-color: transparent;\n",
              "      border-bottom-color: var(--fill-color);\n",
              "      border-left-color: var(--fill-color);\n",
              "    }\n",
              "    20% {\n",
              "      border-color: transparent;\n",
              "      border-left-color: var(--fill-color);\n",
              "      border-top-color: var(--fill-color);\n",
              "    }\n",
              "    30% {\n",
              "      border-color: transparent;\n",
              "      border-left-color: var(--fill-color);\n",
              "      border-top-color: var(--fill-color);\n",
              "      border-right-color: var(--fill-color);\n",
              "    }\n",
              "    40% {\n",
              "      border-color: transparent;\n",
              "      border-right-color: var(--fill-color);\n",
              "      border-top-color: var(--fill-color);\n",
              "    }\n",
              "    60% {\n",
              "      border-color: transparent;\n",
              "      border-right-color: var(--fill-color);\n",
              "    }\n",
              "    80% {\n",
              "      border-color: transparent;\n",
              "      border-right-color: var(--fill-color);\n",
              "      border-bottom-color: var(--fill-color);\n",
              "    }\n",
              "    90% {\n",
              "      border-color: transparent;\n",
              "      border-bottom-color: var(--fill-color);\n",
              "    }\n",
              "  }\n",
              "</style>\n",
              "\n",
              "  <script>\n",
              "    async function quickchart(key) {\n",
              "      const quickchartButtonEl =\n",
              "        document.querySelector('#' + key + ' button');\n",
              "      quickchartButtonEl.disabled = true;  // To prevent multiple clicks.\n",
              "      quickchartButtonEl.classList.add('colab-df-spinner');\n",
              "      try {\n",
              "        const charts = await google.colab.kernel.invokeFunction(\n",
              "            'suggestCharts', [key], {});\n",
              "      } catch (error) {\n",
              "        console.error('Error during call to suggestCharts:', error);\n",
              "      }\n",
              "      quickchartButtonEl.classList.remove('colab-df-spinner');\n",
              "      quickchartButtonEl.classList.add('colab-df-quickchart-complete');\n",
              "    }\n",
              "    (() => {\n",
              "      let quickchartButtonEl =\n",
              "        document.querySelector('#df-a2d58e48-b24d-42ef-9dea-bbd3377b3fd3 button');\n",
              "      quickchartButtonEl.style.display =\n",
              "        google.colab.kernel.accessAllowed ? 'block' : 'none';\n",
              "    })();\n",
              "  </script>\n",
              "</div>\n",
              "\n",
              "    </div>\n",
              "  </div>\n"
            ],
            "application/vnd.google.colaboratory.intrinsic+json": {
              "type": "dataframe",
              "variable_name": "tienda1",
              "summary": "{\n  \"name\": \"tienda1\",\n  \"rows\": 2359,\n  \"fields\": [\n    {\n      \"column\": \"Producto\",\n      \"properties\": {\n        \"dtype\": \"category\",\n        \"num_unique_values\": 51,\n        \"samples\": [\n          \"Guitarra ac\\u00fastica\",\n          \"Bal\\u00f3n de baloncesto\",\n          \"Smartwatch\"\n        ],\n        \"semantic_type\": \"\",\n        \"description\": \"\"\n      }\n    },\n    {\n      \"column\": \"Categor\\u00eda del Producto\",\n      \"properties\": {\n        \"dtype\": \"category\",\n        \"num_unique_values\": 8,\n        \"samples\": [\n          \"Muebles\",\n          \"Deportes y diversi\\u00f3n\",\n          \"Electr\\u00f3nicos\"\n        ],\n        \"semantic_type\": \"\",\n        \"description\": \"\"\n      }\n    },\n    {\n      \"column\": \"Precio\",\n      \"properties\": {\n        \"dtype\": \"number\",\n        \"std\": 614686.7653873172,\n        \"min\": 7600.0,\n        \"max\": 2977000.0,\n        \"num_unique_values\": 1937,\n        \"samples\": [\n          2499400.0,\n          14800.0,\n          80500.0\n        ],\n        \"semantic_type\": \"\",\n        \"description\": \"\"\n      }\n    },\n    {\n      \"column\": \"Costo de env\\u00edo\",\n      \"properties\": {\n        \"dtype\": \"number\",\n        \"std\": 32860.0017825605,\n        \"min\": 0.0,\n        \"max\": 160800.0,\n        \"num_unique_values\": 753,\n        \"samples\": [\n          117800.0,\n          54700.0,\n          45600.0\n        ],\n        \"semantic_type\": \"\",\n        \"description\": \"\"\n      }\n    },\n    {\n      \"column\": \"Fecha de Compra\",\n      \"properties\": {\n        \"dtype\": \"object\",\n        \"num_unique_values\": 1018,\n        \"samples\": [\n          \"15/09/2022\",\n          \"03/06/2020\",\n          \"06/11/2021\"\n        ],\n        \"semantic_type\": \"\",\n        \"description\": \"\"\n      }\n    },\n    {\n      \"column\": \"Vendedor\",\n      \"properties\": {\n        \"dtype\": \"category\",\n        \"num_unique_values\": 14,\n        \"samples\": [\n          \"Juliana Costa\",\n          \"Mariana Herrera\",\n          \"Pedro Gomez\"\n        ],\n        \"semantic_type\": \"\",\n        \"description\": \"\"\n      }\n    },\n    {\n      \"column\": \"Lugar de Compra\",\n      \"properties\": {\n        \"dtype\": \"category\",\n        \"num_unique_values\": 19,\n        \"samples\": [\n          \"Bogot\\u00e1\",\n          \"Pereira\",\n          \"Neiva\"\n        ],\n        \"semantic_type\": \"\",\n        \"description\": \"\"\n      }\n    },\n    {\n      \"column\": \"Calificaci\\u00f3n\",\n      \"properties\": {\n        \"dtype\": \"number\",\n        \"std\": 1,\n        \"min\": 1,\n        \"max\": 5,\n        \"num_unique_values\": 5,\n        \"samples\": [\n          1,\n          2,\n          5\n        ],\n        \"semantic_type\": \"\",\n        \"description\": \"\"\n      }\n    },\n    {\n      \"column\": \"M\\u00e9todo de pago\",\n      \"properties\": {\n        \"dtype\": \"category\",\n        \"num_unique_values\": 4,\n        \"samples\": [\n          \"Nequi\",\n          \"Tarjeta de d\\u00e9bito\",\n          \"Tarjeta de cr\\u00e9dito\"\n        ],\n        \"semantic_type\": \"\",\n        \"description\": \"\"\n      }\n    },\n    {\n      \"column\": \"Cantidad de cuotas\",\n      \"properties\": {\n        \"dtype\": \"number\",\n        \"std\": 2,\n        \"min\": 1,\n        \"max\": 24,\n        \"num_unique_values\": 15,\n        \"samples\": [\n          7,\n          14,\n          8\n        ],\n        \"semantic_type\": \"\",\n        \"description\": \"\"\n      }\n    },\n    {\n      \"column\": \"lat\",\n      \"properties\": {\n        \"dtype\": \"number\",\n        \"std\": 2.2874452492678627,\n        \"min\": -4.21528,\n        \"max\": 11.54444,\n        \"num_unique_values\": 19,\n        \"samples\": [\n          4.60971,\n          4.81333,\n          2.9273\n        ],\n        \"semantic_type\": \"\",\n        \"description\": \"\"\n      }\n    },\n    {\n      \"column\": \"lon\",\n      \"properties\": {\n        \"dtype\": \"number\",\n        \"std\": 1.2178272727088486,\n        \"min\": -77.28111,\n        \"max\": -67.9239,\n        \"num_unique_values\": 19,\n        \"samples\": [\n          -74.08175,\n          -75.69611,\n          -75.28189\n        ],\n        \"semantic_type\": \"\",\n        \"description\": \"\"\n      }\n    }\n  ]\n}"
            }
          },
          "metadata": {},
          "execution_count": 3
        }
      ],
      "source": [
        "import pandas as pd\n",
        "\n",
        "url1 = \"https://raw.githubusercontent.com/alura-es-cursos/challenge1-data-science-latam/refs/heads/main/base-de-datos-challenge1-latam/tienda_1%20.csv\"\n",
        "url2 = \"https://raw.githubusercontent.com/alura-es-cursos/challenge1-data-science-latam/refs/heads/main/base-de-datos-challenge1-latam/tienda_2.csv\"\n",
        "url3 = \"https://raw.githubusercontent.com/alura-es-cursos/challenge1-data-science-latam/refs/heads/main/base-de-datos-challenge1-latam/tienda_3.csv\"\n",
        "url4 = \"https://raw.githubusercontent.com/alura-es-cursos/challenge1-data-science-latam/refs/heads/main/base-de-datos-challenge1-latam/tienda_4.csv\"\n",
        "\n",
        "tienda1 = pd.read_csv(url1)\n",
        "tienda2 = pd.read_csv(url2)\n",
        "tienda3 = pd.read_csv(url3)\n",
        "tienda4 = pd.read_csv(url4)\n",
        "\n",
        "tienda1.head()"
      ]
    },
    {
      "cell_type": "code",
      "source": [
        "from matplotlib import pyplot as plt"
      ],
      "metadata": {
        "id": "XiSbPWE932Eu"
      },
      "execution_count": null,
      "outputs": []
    },
    {
      "cell_type": "markdown",
      "source": [
        "#1. Análisis de facturación\n",
        "\n"
      ],
      "metadata": {
        "id": "X62IW3KFUIYm"
      }
    },
    {
      "cell_type": "code",
      "source": [
        "#enlistar las tiendas para manipular como un iterable\n",
        "tiendas = [tienda1, tienda2, tienda3, tienda4]\n",
        "\n",
        "#obtener la facturación total de las 4 tiendas\n",
        "facturacion = [sum(tiendas[i]['Precio']) for i in range(len(tiendas))]\n",
        "#hacer un diccionario tienda:facturacion\n",
        "ingresos = {'tienda ' + str(facturacion.index(elemento)+1) : elemento for elemento in facturacion}\n",
        "#organizar como lista de tuplas en orden descendente con respecto a los ingresos\n",
        "facturacion_ordenada = sorted(ingresos.items(), key=lambda item: item[1], reverse=True)"
      ],
      "metadata": {
        "id": "LfNw7Zt0qCU-"
      },
      "execution_count": null,
      "outputs": []
    },
    {
      "cell_type": "code",
      "source": [
        "print(f'La facturación por tienda de mayor a menor es:\\n{facturacion_ordenada}')\n",
        "\n",
        "#obtener el índice para identificar cada tienda\n",
        "print(f'\\nLa tienda {facturacion.index(max(facturacion))+1} tiene la facturación mayor: ${max(facturacion)}\\nla tienda {facturacion.index(min(facturacion))+1} tiene la facturación menor: ${min(facturacion)}')\n",
        "print(f'La diferencia entre ellas es de: ${max(facturacion) - min(facturacion)}')"
      ],
      "metadata": {
        "colab": {
          "base_uri": "https://localhost:8080/"
        },
        "id": "JgOKAQ--qCiP",
        "outputId": "d762b4b7-9b2f-4a12-c4be-50a6fe487db8"
      },
      "execution_count": null,
      "outputs": [
        {
          "output_type": "stream",
          "name": "stdout",
          "text": [
            "La facturación por tienda de mayor a menor es:\n",
            "[('tienda 1', 1150880400.0), ('tienda 2', 1116343500.0), ('tienda 3', 1098019600.0), ('tienda 4', 1038375700.0)]\n",
            "\n",
            "La tienda 1 tiene la facturación mayor: $1150880400.0\n",
            "la tienda 4 tiene la facturación menor: $1038375700.0\n",
            "La diferencia entre ellas es de: $112504700.0\n"
          ]
        }
      ]
    },
    {
      "cell_type": "markdown",
      "source": [
        "# 2. Ventas por categoría"
      ],
      "metadata": {
        "id": "2V_vcAPzWZmR"
      }
    },
    {
      "cell_type": "code",
      "source": [
        "# Agrupar las categorías sin repetición de valor en cada tienda\n",
        "categorias_unicas = [list(set(tiendas[i]['Categoría del Producto'])) for i in range(len(tiendas))]\n",
        "#asignar las categorías correspondientes a cada tienda\n",
        "sucursal1, sucursal2, sucursal3, sucursal4 = categorias_unicas\n",
        "#unificar todas las categorías en una sola lista\n",
        "unicas = list(set(sucursal1 + sucursal2 + sucursal3 + sucursal4))\n",
        "\n",
        "#crear las 4 listas con categorias repetidas de cada tienda\n",
        "categorias_repetidas = [list(tiendas[m]['Categoría del Producto']) for m in range(len(tiendas))]"
      ],
      "metadata": {
        "id": "u5uVa1qBMkmT"
      },
      "execution_count": null,
      "outputs": []
    },
    {
      "cell_type": "code",
      "source": [
        "#crear una lista de listas con valores repetidos de cada tienda\n",
        "for sublista in categorias_repetidas:\n",
        "    lista_de_listas = []\n",
        "    for categoria in unicas:\n",
        "        lista = [c for c in sublista if c == categoria]\n",
        "        lista_de_listas.append(lista)\n",
        "    print(f'Venta por categoría de la tienda {categorias_repetidas.index(sublista)+1} de mayor a menor:')\n",
        "    #print(lista_de_listas)\n",
        "    #Creando un diccionario categoria:cantidad de elementos\n",
        "    conteo_valores = {unicas[i]: len(lista_de_listas[i]) for i in range(len(unicas))}\n",
        "    #print(f'{conteo_valores}\\nDe mayor a menor:\\n')\n",
        "    print(f'{dict(sorted(conteo_valores.items(), key=lambda item: item[1], reverse=True))}\\n')"
      ],
      "metadata": {
        "id": "42lxo14y_w5U",
        "colab": {
          "base_uri": "https://localhost:8080/"
        },
        "outputId": "990a5a59-4d28-483a-a0fa-ebc1161efbad"
      },
      "execution_count": null,
      "outputs": [
        {
          "output_type": "stream",
          "name": "stdout",
          "text": [
            "Venta por categoría de la tienda 1 de mayor a menor:\n",
            "{'Muebles': 465, 'Electrónicos': 448, 'Juguetes': 324, 'Electrodomésticos': 312, 'Deportes y diversión': 284, 'Instrumentos musicales': 182, 'Libros': 173, 'Artículos para el hogar': 171}\n",
            "\n",
            "Venta por categoría de la tienda 2 de mayor a menor:\n",
            "{'Muebles': 442, 'Electrónicos': 422, 'Juguetes': 313, 'Electrodomésticos': 305, 'Deportes y diversión': 275, 'Instrumentos musicales': 224, 'Libros': 197, 'Artículos para el hogar': 181}\n",
            "\n",
            "Venta por categoría de la tienda 3 de mayor a menor:\n",
            "{'Muebles': 499, 'Electrónicos': 451, 'Juguetes': 315, 'Electrodomésticos': 278, 'Deportes y diversión': 277, 'Libros': 185, 'Artículos para el hogar': 177, 'Instrumentos musicales': 177}\n",
            "\n",
            "Venta por categoría de la tienda 4 de mayor a menor:\n",
            "{'Muebles': 480, 'Electrónicos': 451, 'Juguetes': 338, 'Deportes y diversión': 277, 'Electrodomésticos': 254, 'Artículos para el hogar': 201, 'Libros': 187, 'Instrumentos musicales': 170}\n",
            "\n"
          ]
        }
      ]
    },
    {
      "cell_type": "markdown",
      "source": [
        "# 3. Calificación promedio de la tienda"
      ],
      "metadata": {
        "id": "Rq6tU_xSY3jk"
      }
    },
    {
      "cell_type": "code",
      "source": [
        "#obtener el promedio de satisfacción de cada tienda\n",
        "media_aprobacion = [sum(tiendas[i]['Calificación'])/len(tiendas[i]['Calificación']) for i in range(len(tiendas))]\n",
        "#hacer un diccionario tienda:calificacion\n",
        "aprobacion = {'tienda ' + str(media_aprobacion.index(j)+1) : j for j in media_aprobacion}\n",
        "#organizar como lista de tuplas en orden descendente con respecto a la calificación\n",
        "aprobacion_ordenada = sorted(aprobacion.items(), key=lambda item: item[1], reverse=True)"
      ],
      "metadata": {
        "id": "oTHjaoytw7Cr"
      },
      "execution_count": null,
      "outputs": []
    },
    {
      "cell_type": "code",
      "source": [
        "print(f'La calificación por tienda de mayor a menor es:\\n{aprobacion_ordenada}')\n",
        "\n",
        "#obtener el índice para identificar cada tienda\n",
        "print(f'\\nLa tienda {media_aprobacion.index(max(media_aprobacion))+1} tiene la calificación mayor: {max(media_aprobacion):.2f}\\nla tienda {media_aprobacion.index(min(media_aprobacion))+1} tiene la calificación menor: {min(media_aprobacion):.2f}')"
      ],
      "metadata": {
        "colab": {
          "base_uri": "https://localhost:8080/"
        },
        "id": "erULBqMJ0FUp",
        "outputId": "4a119726-4c40-4321-c29f-b682aa09ca67"
      },
      "execution_count": null,
      "outputs": [
        {
          "output_type": "stream",
          "name": "stdout",
          "text": [
            "La calificación por tienda de mayor a menor es:\n",
            "[('tienda 3', 4.048325561678677), ('tienda 2', 4.037303942348453), ('tienda 4', 3.9957591178965224), ('tienda 1', 3.976685036032217)]\n",
            "\n",
            "La tienda 3 tiene la calificación mayor: 4.05\n",
            "la tienda 1 tiene la calificación menor: 3.98\n"
          ]
        }
      ]
    },
    {
      "cell_type": "markdown",
      "source": [
        "# 4. Productos más y menos vendidos"
      ],
      "metadata": {
        "id": "DmNp1KPBZCm-"
      }
    },
    {
      "cell_type": "code",
      "source": [
        "#Agrupar los productos sin repetición de valor en cada tienda\n",
        "productos_unicos = [list(set(tiendas[i]['Producto'])) for i in range(len(tiendas))]\n",
        "#asignar los productos correspondientes a cada tienda\n",
        "p_venta1, p_venta2, p_venta3, p_venta4 = productos_unicos\n",
        "#unificar todas los productos diferentes sin repetición en una sola lista\n",
        "productos = list(set(p_venta1 + p_venta2 + p_venta3 + p_venta4))\n",
        "\n",
        "#crear las 4 listas con cada aparición del producto por tienda\n",
        "productos_repetidos = [list(tiendas[n]['Producto']) for n in range(len(tiendas))]"
      ],
      "metadata": {
        "id": "qoyjqijQZHfF"
      },
      "execution_count": null,
      "outputs": []
    },
    {
      "cell_type": "code",
      "source": [
        "#crear una lista de listas con valores repetidos de cada tienda\n",
        "for elemento in productos_repetidos:\n",
        "    lista_de_listasp = []\n",
        "    for prod in productos:\n",
        "        listap = [p for p in elemento if p == prod]\n",
        "        lista_de_listasp.append(listap)\n",
        "    print(f'Venta por producto por pieza de la tienda {productos_repetidos.index(elemento)+1} de mayor a menor:')\n",
        "    #Crear un diccionario producto:piezas vendidas\n",
        "    conteo_productos = {productos[i]: len(lista_de_listasp[i]) for i in range(len(productos))}\n",
        "    print(f'{dict(sorted(conteo_productos.items(), key=lambda item: item[1], reverse=True))}')\n",
        "    print(f'El producto más vendido por pieza es: {[key for key, value in conteo_productos.items() if value == max(conteo_productos.values())]}')\n",
        "    print(f'El producto menos vendido por pieza es: {[key for key, value in conteo_productos.items() if value == min(conteo_productos.values())]}\\n')"
      ],
      "metadata": {
        "id": "0Sw3sd4IZIGW",
        "colab": {
          "base_uri": "https://localhost:8080/"
        },
        "outputId": "98e1143d-27ea-4f2f-b6d9-88bacf81420c"
      },
      "execution_count": null,
      "outputs": [
        {
          "output_type": "stream",
          "name": "stdout",
          "text": [
            "Venta por producto por pieza de la tienda 1 de mayor a menor:\n",
            "{'Microondas': 60, 'TV LED UHD 4K': 60, 'Armario': 60, 'Secadora de ropa': 58, 'Mesa de noche': 56, 'Bloques de construcción': 56, 'Balón de baloncesto': 55, 'Impresora': 54, 'Refrigerador': 54, 'Bicicleta': 54, 'Vaso térmico': 54, 'Batería': 53, 'Cubertería': 52, 'Carrito de control remoto': 52, 'Modelado predictivo': 51, 'Auriculares': 50, 'Ajedrez de madera': 49, 'Iphone 15': 49, 'Lavavajillas': 48, 'Lavadora de ropa': 47, 'Guitarra eléctrica': 47, 'Guitarra acústica': 46, 'Silla de oficina': 46, 'Sofá reclinable': 46, 'Estufa': 45, 'Cama king': 44, 'Mesa de centro': 44, 'Smart TV': 44, 'Cama box': 44, 'Cubo mágico 8x8': 44, 'Kit de bancas': 44, 'Juego de mesa': 43, 'Smartwatch': 43, 'Set de ollas': 43, 'Balón de voleibol': 42, 'Dashboards con Power BI': 42, 'Tablet ABXY': 42, 'Set de vasos': 41, 'Iniciando en programación': 41, 'Sillón': 41, 'Mesa de comedor': 40, 'Muñeca bebé': 40, 'Cuerda para saltar': 40, 'Asistente virtual': 40, 'Dinosaurio Rex': 40, 'Mochila': 39, 'Ciencia de datos con Python': 39, 'Pandereta': 36, 'Olla de presión': 35, 'Auriculares con micrófono': 33, 'Celular ABXY': 33}\n",
            "El producto más vendido por pieza es: ['Microondas', 'TV LED UHD 4K', 'Armario']\n",
            "El producto menos vendido por pieza es: ['Auriculares con micrófono', 'Celular ABXY']\n",
            "\n",
            "Venta por producto por pieza de la tienda 2 de mayor a menor:\n",
            "{'Iniciando en programación': 65, 'Microondas': 62, 'Batería': 61, 'Guitarra acústica': 58, 'Pandereta': 58, 'Secadora de ropa': 57, 'Iphone 15': 55, 'Armario': 54, 'Bloques de construcción': 54, 'Set de ollas': 52, 'Cuerda para saltar': 50, 'Lavadora de ropa': 49, 'Refrigerador': 49, 'Silla de oficina': 49, 'Muñeca bebé': 48, 'Carrito de control remoto': 47, 'Cama box': 47, 'Vaso térmico': 47, 'Guitarra eléctrica': 47, 'Set de vasos': 46, 'Balón de voleibol': 46, 'Modelado predictivo': 46, 'Lavavajillas': 46, 'Cama king': 45, 'Mochila': 45, 'Bicicleta': 45, 'Mesa de centro': 45, 'Cubo mágico 8x8': 45, 'Ajedrez de madera': 45, 'TV LED UHD 4K': 45, 'Kit de bancas': 45, 'Mesa de noche': 44, 'Auriculares con micrófono': 44, 'Smartwatch': 44, 'Sofá reclinable': 44, 'Olla de presión': 44, 'Tablet ABXY': 44, 'Dashboards con Power BI': 43, 'Ciencia de datos con Python': 43, 'Estufa': 42, 'Balón de baloncesto': 42, 'Dinosaurio Rex': 42, 'Celular ABXY': 41, 'Smart TV': 40, 'Cubertería': 39, 'Asistente virtual': 38, 'Auriculares': 37, 'Sillón': 35, 'Impresora': 34, 'Mesa de comedor': 34, 'Juego de mesa': 32}\n",
            "El producto más vendido por pieza es: ['Iniciando en programación']\n",
            "El producto menos vendido por pieza es: ['Juego de mesa']\n",
            "\n",
            "Venta por producto por pieza de la tienda 3 de mayor a menor:\n",
            "{'Kit de bancas': 57, 'Mesa de comedor': 56, 'Cama king': 56, 'Mesa de noche': 55, 'Set de ollas': 55, 'Smart TV': 54, 'Modelado predictivo': 53, 'Cuerda para saltar': 53, 'Estufa': 53, 'Lavavajillas': 52, 'Juego de mesa': 52, 'Carrito de control remoto': 52, 'Bicicleta': 52, 'Pandereta': 51, 'Impresora': 50, 'Refrigerador': 50, 'Balón de baloncesto': 50, 'Armario': 49, 'Balón de voleibol': 48, 'Tablet ABXY': 48, 'Guitarra acústica': 47, 'Sillón': 47, 'Olla de presión': 47, 'Ajedrez de madera': 47, 'Iniciando en programación': 46, 'Silla de oficina': 46, 'Smartwatch': 46, 'Ciencia de datos con Python': 46, 'Cama box': 46, 'Dinosaurio Rex': 46, 'Iphone 15': 46, 'Secadora de ropa': 45, 'Sofá reclinable': 45, 'Cubo mágico 8x8': 44, 'Celular ABXY': 44, 'Auriculares': 43, 'Lavadora de ropa': 42, 'Mesa de centro': 42, 'TV LED UHD 4K': 42, 'Batería': 41, 'Dashboards con Power BI': 40, 'Cubertería': 39, 'Muñeca bebé': 39, 'Auriculares con micrófono': 39, 'Asistente virtual': 39, 'Vaso térmico': 38, 'Guitarra eléctrica': 38, 'Set de vasos': 36, 'Microondas': 36, 'Mochila': 36, 'Bloques de construcción': 35}\n",
            "El producto más vendido por pieza es: ['Kit de bancas']\n",
            "El producto menos vendido por pieza es: ['Bloques de construcción']\n",
            "\n",
            "Venta por producto por pieza de la tienda 4 de mayor a menor:\n",
            "{'Cama box': 62, 'Cubertería': 59, 'Cama king': 56, 'Dashboards con Power BI': 56, 'Mesa de comedor': 55, 'Mesa de noche': 55, 'Carrito de control remoto': 55, 'Smart TV': 54, 'Bloques de construcción': 54, 'Pandereta': 52, 'Impresora': 50, 'Modelado predictivo': 50, 'Asistente virtual': 50, 'Balón de baloncesto': 50, 'Set de ollas': 50, 'Balón de voleibol': 48, 'Muñeca bebé': 48, 'Microondas': 48, 'Juego de mesa': 48, 'Vaso térmico': 48, 'Batería': 48, 'Iphone 15': 48, 'Estufa': 47, 'Sofá reclinable': 47, 'Cubo mágico 8x8': 47, 'Dinosaurio Rex': 47, 'Set de vasos': 46, 'Olla de presión': 46, 'Bicicleta': 45, 'Sillón': 45, 'Tablet ABXY': 45, 'Mesa de centro': 44, 'Auriculares': 44, 'Iniciando en programación': 43, 'Lavavajillas': 43, 'Mochila': 43, 'Cuerda para saltar': 43, 'Auriculares con micrófono': 42, 'Kit de bancas': 42, 'Silla de oficina': 40, 'Secadora de ropa': 40, 'TV LED UHD 4K': 40, 'Smartwatch': 39, 'Ajedrez de madera': 39, 'Celular ABXY': 39, 'Lavadora de ropa': 38, 'Refrigerador': 38, 'Ciencia de datos con Python': 38, 'Guitarra acústica': 37, 'Armario': 34, 'Guitarra eléctrica': 33}\n",
            "El producto más vendido por pieza es: ['Cama box']\n",
            "El producto menos vendido por pieza es: ['Guitarra eléctrica']\n",
            "\n"
          ]
        }
      ]
    },
    {
      "cell_type": "markdown",
      "source": [
        "# 5. Envío promedio por tienda"
      ],
      "metadata": {
        "id": "Fl0cGi3bZKqU"
      }
    },
    {
      "cell_type": "code",
      "source": [
        "#obtener el promedio del costo de envío de cada tienda\n",
        "media_envio = [sum(tiendas[k]['Costo de envío'])/len(tiendas[k]['Costo de envío']) for k in range(len(tiendas))]\n",
        "#hacer un diccionario tienda:costo_envio\n",
        "envio = {'tienda ' + str(media_envio.index(l)+1) : l for l in media_envio}\n",
        "#organizar como lista de tuplas en orden descendente con respecto al costo de envío\n",
        "envio_ordenada = sorted(envio.items(), key=lambda item: item[1], reverse=True)"
      ],
      "metadata": {
        "id": "8NRJp6XdQXSX"
      },
      "execution_count": null,
      "outputs": []
    },
    {
      "cell_type": "code",
      "source": [
        "\n",
        "print(f'El costo promedio de envío por tienda de mayor a menor es:\\n{envio_ordenada}')\n",
        "\n",
        "#obtener el índice para identificar cada tienda\n",
        "print(f'\\nLa tienda {media_envio.index(max(media_envio))+1} tiene el costo promedio mayor: ${max(media_envio):.2f}\\nla tienda {media_envio.index(min(media_envio))+1} tiene el costo promedio menor: ${min(media_envio):.2f}')"
      ],
      "metadata": {
        "colab": {
          "base_uri": "https://localhost:8080/"
        },
        "id": "S2pn3yQUBIbQ",
        "outputId": "965f6c39-9f1b-4efd-ca04-04d495143ab7"
      },
      "execution_count": null,
      "outputs": [
        {
          "output_type": "stream",
          "name": "stdout",
          "text": [
            "El costo promedio de envío por tienda de mayor a menor es:\n",
            "[('tienda 1', 26018.60958033065), ('tienda 2', 25216.235693090293), ('tienda 3', 24805.680373039424), ('tienda 4', 23459.457167090754)]\n",
            "\n",
            "La tienda 1 tiene el costo promedio mayor: $26018.61\n",
            "la tienda 4 tiene el costo promedio menor: $23459.46\n"
          ]
        }
      ]
    },
    {
      "cell_type": "markdown",
      "source": [
        "# Visualización"
      ],
      "metadata": {
        "id": "eEAoEc0Tw3Mt"
      }
    },
    {
      "cell_type": "code",
      "source": [
        "tiendas_ = ['tienda1', 'tienda2', 'tienda3', 'tienda4']\n",
        "plt.bar(x=tiendas_, height=facturacion)\n",
        "plt.title('Facturación')\n",
        "plt.show()"
      ],
      "metadata": {
        "colab": {
          "base_uri": "https://localhost:8080/",
          "height": 274
        },
        "id": "f7jfdmDh-LCw",
        "outputId": "8d1b779e-95be-469e-dcac-41562fe12ebc"
      },
      "execution_count": null,
      "outputs": [
        {
          "output_type": "display_data",
          "data": {
            "text/plain": [
              "<Figure size 640x480 with 1 Axes>"
            ],
            "image/png": "[encoded data removed]"
          },
          "metadata": {}
        }
      ]
    },
    {
      "cell_type": "code",
      "source": [
        "tiendas_ = ['tienda1', 'tienda2', 'tienda3', 'tienda4']\n",
        "plt.barh(y=tiendas_, width=facturacion)\n",
        "plt.title('Calificación')\n",
        "plt.show()"
      ],
      "metadata": {
        "colab": {
          "base_uri": "https://localhost:8080/",
          "height": 267
        },
        "id": "7t3W9E84-irI",
        "outputId": "7891f966-768f-4912-f529-23d95ed2e74a"
      },
      "execution_count": null,
      "outputs": [
        {
          "output_type": "display_data",
          "data": {
            "text/plain": [
              "<Figure size 640x480 with 1 Axes>"
            ],
            "image/png": "[encoded data removed]"
          },
          "metadata": {}
        }
      ]
    },
    {
      "cell_type": "code",
      "source": [
        "tiendas_ = ['tienda1', 'tienda2', 'tienda3', 'tienda4']\n",
        "plt.pie(media_envio, labels=tiendas_, autopct = '%1.1f%%')\n",
        "plt.title('Costo promedio de envío')\n",
        "plt.show()"
      ],
      "metadata": {
        "colab": {
          "base_uri": "https://localhost:8080/",
          "height": 360
        },
        "id": "7AiU5uzPISay",
        "outputId": "afcfa07b-afa0-413a-9595-18057884d2cc"
      },
      "execution_count": null,
      "outputs": [
        {
          "output_type": "display_data",
          "data": {
            "text/plain": [
              "<Figure size 640x480 with 1 Axes>"
            ],
            "image/png": "[encoded data removed]"
          },
          "metadata": {}
        }
      ]
    },
    {
      "cell_type": "markdown",
      "source": [
        "# Informe final"
      ],
      "metadata": {
        "id": "fP2hwp07M1Hg"
      }
    },
    {
      "cell_type": "markdown",
      "source": [
        "-\n",
        "La tienda menos productiva es la número 4 con una facturación de 1150880400.0; la tienda más productiva es la tienda número 1 con una facturación de 1038375700.0, lo que representa una diferencia de $112504700.0\n",
        "\n",
        "- Las categorías más populares en las 4 tiendas son: muebles, electrónicos y juguetes. La tienda 4 se encuentra entre las de mayor volumen de venta de unidades de estas categorías, sin embargo con la facturación más baja lo que permite deducir que dichas unidades, así como la nota de venta, son de costo bajo.\n",
        "\n",
        "-Los productos más vendidos en la tienda 4 son de costo bajo, como box de cama y cubertería\n",
        "\n",
        "- La tienda mejor calificada es la número 3 con 4.05; la tienda con la calificación más baja es la tienda 1 con 3.98\n",
        "\n",
        "- La tienda l tiene el costo de envío promedio mayor: 26018.61; la tienda 4 tiene el costo de envío promedio menor: $23459.46\n",
        "\n",
        "Con base en lo cual vender la tienda 4 es la mejor opción para el señor Juan, asimismo sería muy recomendable identificar los puntos de dolor de la clientela de la tienda 1 para aumentar el nivel de satisfacción y potenciar el ingreso de esa sucursal."
      ],
      "metadata": {
        "id": "NquahMY4yIuK"
      }
    }
  ]
}